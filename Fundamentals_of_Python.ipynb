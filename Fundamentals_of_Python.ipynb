{
  "nbformat": 4,
  "nbformat_minor": 0,
  "metadata": {
    "colab": {
      "name": "Fundamentals of Python.ipynb",
      "provenance": [],
      "history_visible": true,
      "authorship_tag": "ABX9TyNnNfSK7+tjUG6SrMhDCToW",
      "include_colab_link": true
    },
    "kernelspec": {
      "name": "python3",
      "display_name": "Python 3"
    },
    "language_info": {
      "name": "python"
    }
  },
  "cells": [
    {
      "cell_type": "markdown",
      "metadata": {
        "id": "view-in-github",
        "colab_type": "text"
      },
      "source": [
        "<a href=\"https://colab.research.google.com/github/Borvs/Borvs/blob/main/Fundamentals_of_Python.ipynb\" target=\"_parent\"><img src=\"https://colab.research.google.com/assets/colab-badge.svg\" alt=\"Open In Colab\"/></a>"
      ]
    },
    {
      "cell_type": "markdown",
      "source": [
        "Fundamentals of Phyton"
      ],
      "metadata": {
        "id": "aW8XeQwDkacM"
      }
    },
    {
      "cell_type": "markdown",
      "source": [
        "Phyton Variables"
      ],
      "metadata": {
        "id": "toc52UXUkjbo"
      }
    },
    {
      "cell_type": "code",
      "source": [
        "x = float(1)\n",
        "a, b = 0, -1\n",
        "a, b, c = \"Sally\", \"John\", \"Ana\"\n",
        "\n",
        "print('This a sample')\n",
        "print(a)\n",
        "print(c)"
      ],
      "metadata": {
        "colab": {
          "base_uri": "https://localhost:8080/"
        },
        "id": "470e40P5krYk",
        "outputId": "44a6d0ee-32c8-4476-d757-4d883cd43b23"
      },
      "execution_count": 12,
      "outputs": [
        {
          "output_type": "stream",
          "name": "stdout",
          "text": [
            "This a sample\n",
            "Sally\n",
            "Ana\n"
          ]
        }
      ]
    },
    {
      "cell_type": "markdown",
      "source": [
        "Casting"
      ],
      "metadata": {
        "id": "U3Vh2N19mWVn"
      }
    },
    {
      "cell_type": "code",
      "source": [
        "print(x)\n"
      ],
      "metadata": {
        "colab": {
          "base_uri": "https://localhost:8080/"
        },
        "id": "1erHz0mOmY7y",
        "outputId": "f4e5ee72-18e3-4400-f6b6-179613dd9fb9"
      },
      "execution_count": 13,
      "outputs": [
        {
          "output_type": "stream",
          "name": "stdout",
          "text": [
            "1.0\n"
          ]
        }
      ]
    },
    {
      "cell_type": "markdown",
      "source": [
        "Type() Function symbol"
      ],
      "metadata": {
        "id": "e1Yzlm2smwCL"
      }
    },
    {
      "cell_type": "code",
      "source": [
        "y= \"Johnny\"\n",
        "\n",
        "print(type(y))\n",
        "print(type(x))"
      ],
      "metadata": {
        "colab": {
          "base_uri": "https://localhost:8080/"
        },
        "id": "Xjdr8nCymzPL",
        "outputId": "6d92b8e8-622b-4e38-8037-6c9b488c92f6"
      },
      "execution_count": 18,
      "outputs": [
        {
          "output_type": "stream",
          "name": "stdout",
          "text": [
            "<class 'str'>\n",
            "<class 'float'>\n"
          ]
        }
      ]
    },
    {
      "cell_type": "markdown",
      "source": [
        "Double qoutes and Single qoutes (Case Sensitive)"
      ],
      "metadata": {
        "id": "hlwqC9UenpwP"
      }
    },
    {
      "cell_type": "code",
      "source": [
        "#h = \"Maria\"\n",
        "h = 'Maria'\n",
        "v = \"1\"\n",
        "V = \"2\"\n",
        "print(h)\n",
        "print(v)\n",
        "print(V)"
      ],
      "metadata": {
        "colab": {
          "base_uri": "https://localhost:8080/"
        },
        "id": "qQwSC-EAnujf",
        "outputId": "894fed36-bc94-4661-f4a3-53feb9e68f62"
      },
      "execution_count": 23,
      "outputs": [
        {
          "output_type": "stream",
          "name": "stdout",
          "text": [
            "Maria\n",
            "1\n",
            "2\n"
          ]
        }
      ]
    },
    {
      "cell_type": "markdown",
      "source": [
        "Multiple Variables\n"
      ],
      "metadata": {
        "id": "9WpQcOBVpB1V"
      }
    },
    {
      "cell_type": "code",
      "source": [
        "x,y,z = \"one\", \"two\", 'three'\n",
        "\n",
        "print(x) \n",
        "print(y)\n",
        "print(z)\n",
        "print(x,y,z)\n",
        "print(type(x))\n",
        "print(type(y))\n",
        "print(type(z))"
      ],
      "metadata": {
        "colab": {
          "base_uri": "https://localhost:8080/"
        },
        "id": "UgT60I6PpIAg",
        "outputId": "5f549836-6b97-43bf-f3a8-8d8fdbe1a828"
      },
      "execution_count": 30,
      "outputs": [
        {
          "output_type": "stream",
          "name": "stdout",
          "text": [
            "one\n",
            "two\n",
            "three\n",
            "one two three\n",
            "<class 'str'>\n",
            "<class 'str'>\n",
            "<class 'str'>\n"
          ]
        }
      ]
    },
    {
      "cell_type": "markdown",
      "source": [
        "One Value to Multiple Variables\n"
      ],
      "metadata": {
        "id": "IQbRVrlZqvCR"
      }
    },
    {
      "cell_type": "code",
      "source": [
        "x = y = z = \"Stella\"\n",
        "print(x,y,z)\n",
        "print (x)\n",
        "print (y)\n",
        "print (z)"
      ],
      "metadata": {
        "colab": {
          "base_uri": "https://localhost:8080/"
        },
        "id": "59jRWWnzqyIi",
        "outputId": "258ff577-2784-47ca-999d-d0107b7adb81"
      },
      "execution_count": 31,
      "outputs": [
        {
          "output_type": "stream",
          "name": "stdout",
          "text": [
            "Stella Stella Stella\n",
            "Stella\n",
            "Stella\n",
            "Stella\n"
          ]
        }
      ]
    },
    {
      "cell_type": "markdown",
      "source": [
        "Output Variables"
      ],
      "metadata": {
        "id": "c7plU0IQrRVV"
      }
    },
    {
      "cell_type": "code",
      "source": [
        "x = \"enjoying\"\n",
        "y = \"Phyton is \"\n",
        "\n",
        "print( y + x)"
      ],
      "metadata": {
        "colab": {
          "base_uri": "https://localhost:8080/"
        },
        "id": "qG6vyGWerSxB",
        "outputId": "f9b9b89a-4888-4df6-8f52-992144863005"
      },
      "execution_count": 32,
      "outputs": [
        {
          "output_type": "stream",
          "name": "stdout",
          "text": [
            "Phyton is enjoying\n"
          ]
        }
      ]
    }
  ]
}