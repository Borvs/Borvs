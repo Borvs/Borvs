{
  "nbformat": 4,
  "nbformat_minor": 0,
  "metadata": {
    "colab": {
      "name": "LongQuiz.ipynb",
      "provenance": [],
      "collapsed_sections": [],
      "authorship_tag": "ABX9TyO642nS2/s8lT8L/pSQcGc4",
      "include_colab_link": true
    },
    "kernelspec": {
      "name": "python3",
      "display_name": "Python 3"
    },
    "language_info": {
      "name": "python"
    }
  },
  "cells": [
    {
      "cell_type": "markdown",
      "metadata": {
        "id": "view-in-github",
        "colab_type": "text"
      },
      "source": [
        "<a href=\"https://colab.research.google.com/github/Borvs/OOP-58001/blob/main/LongQuiz.ipynb\" target=\"_parent\"><img src=\"https://colab.research.google.com/assets/colab-badge.svg\" alt=\"Open In Colab\"/></a>"
      ]
    },
    {
      "cell_type": "code",
      "execution_count": 13,
      "metadata": {
        "colab": {
          "base_uri": "https://localhost:8080/"
        },
        "id": "MJO90EJUUmKT",
        "outputId": "aad468c4-746d-4948-bc9b-1e4a5a95e777"
      },
      "outputs": [
        {
          "output_type": "stream",
          "name": "stdout",
          "text": [
            "12\n",
            "The Perimeter of Circle is  75.39815999999999\n",
            "The Area of a Circle is  452.38896\n"
          ]
        }
      ],
      "source": [
        "class Circle():\n",
        "  def __init__(self, radius, pi):\n",
        "   self.radius = radius\n",
        "   self.pi = pi\n",
        "\n",
        "  def Perimeter(self):\n",
        "   return 2*self.pi*self.radius\n",
        "  \n",
        "  def Area(self):\n",
        "   return self.pi*self.radius**2\n",
        "  \n",
        "  def display(self):\n",
        "   print(\"The Perimeter of Circle is \", self.Perimeter())\n",
        "   print(\"The Area of a Circle is \", self.Area())\n",
        "\n",
        "Ball = Circle(int(input()),3.14159)  \n",
        "Ball.display()\n",
        "\n",
        "\n",
        "\n"
      ]
    },
    {
      "cell_type": "code",
      "source": [
        ""
      ],
      "metadata": {
        "id": "nlL8rA3_V7K_"
      },
      "execution_count": null,
      "outputs": []
    }
  ]
}