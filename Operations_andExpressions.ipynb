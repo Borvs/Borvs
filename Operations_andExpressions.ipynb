{
  "nbformat": 4,
  "nbformat_minor": 0,
  "metadata": {
    "colab": {
      "name": "Operations andExpressions.ipynb",
      "provenance": [],
      "collapsed_sections": [],
      "authorship_tag": "ABX9TyPpnW9wyYOoa0Gf7V7HEtvT",
      "include_colab_link": true
    },
    "kernelspec": {
      "name": "python3",
      "display_name": "Python 3"
    },
    "language_info": {
      "name": "python"
    }
  },
  "cells": [
    {
      "cell_type": "markdown",
      "metadata": {
        "id": "view-in-github",
        "colab_type": "text"
      },
      "source": [
        "<a href=\"https://colab.research.google.com/github/Borvs/OOP-58001/blob/main/Operations_andExpressions.ipynb\" target=\"_parent\"><img src=\"https://colab.research.google.com/assets/colab-badge.svg\" alt=\"Open In Colab\"/></a>"
      ]
    },
    {
      "cell_type": "markdown",
      "source": [
        ""
      ],
      "metadata": {
        "id": "E6s9uw76lmqz"
      }
    },
    {
      "cell_type": "markdown",
      "source": [
        "#Boolean Operators"
      ],
      "metadata": {
        "id": "Vm9peomakjbH"
      }
    },
    {
      "cell_type": "code",
      "source": [
        "print(10>9)\n",
        "print(10==9)\n",
        "print(10<9)\n"
      ],
      "metadata": {
        "colab": {
          "base_uri": "https://localhost:8080/"
        },
        "id": "XgXn0f98kwOy",
        "outputId": "30ab8424-6817-4f08-bbf1-8d08729b7000"
      },
      "execution_count": null,
      "outputs": [
        {
          "output_type": "stream",
          "name": "stdout",
          "text": [
            "True\n",
            "False\n",
            "False\n"
          ]
        }
      ]
    },
    {
      "cell_type": "markdown",
      "source": [
        "bool() functions"
      ],
      "metadata": {
        "id": "DQGeVTWnmMIV"
      }
    },
    {
      "cell_type": "code",
      "source": [
        "print(bool(\"Gabriel\"))\n",
        "print(bool(19))\n",
        "print(bool([]))\n",
        "print(bool(0))\n",
        "print(bool(1))\n",
        "print(bool(None))\n",
        "print(bool(False))"
      ],
      "metadata": {
        "colab": {
          "base_uri": "https://localhost:8080/"
        },
        "id": "qTvTMWbcmSK-",
        "outputId": "bf84bc29-52b5-4f87-8b13-f1f09550e735"
      },
      "execution_count": null,
      "outputs": [
        {
          "output_type": "stream",
          "name": "stdout",
          "text": [
            "True\n",
            "True\n",
            "False\n",
            "False\n",
            "True\n",
            "False\n",
            "False\n"
          ]
        }
      ]
    },
    {
      "cell_type": "markdown",
      "source": [
        "Functions can return Boolean"
      ],
      "metadata": {
        "id": "CZP2vjATm6_M"
      }
    },
    {
      "cell_type": "code",
      "source": [
        "def myFunction():\n",
        " return False\n",
        "\n",
        "print(myFunction())"
      ],
      "metadata": {
        "id": "AX5yzTEfm-s7",
        "colab": {
          "base_uri": "https://localhost:8080/"
        },
        "outputId": "86139e9c-c854-4058-b4a8-b63b140316e3"
      },
      "execution_count": null,
      "outputs": [
        {
          "output_type": "stream",
          "name": "stdout",
          "text": [
            "False\n"
          ]
        }
      ]
    },
    {
      "cell_type": "code",
      "source": [
        "def myFunction():\n",
        " return True\n",
        "\n",
        "if myFunction():\n",
        "    print(\"YES!\")\n",
        "else:\n",
        "    print(\"NO!\")"
      ],
      "metadata": {
        "id": "y0jrqhBGn3s4",
        "colab": {
          "base_uri": "https://localhost:8080/"
        },
        "outputId": "1f42fe51-e07e-4ccc-ca89-a5cb2070cca7"
      },
      "execution_count": null,
      "outputs": [
        {
          "output_type": "stream",
          "name": "stdout",
          "text": [
            "YES!\n"
          ]
        }
      ]
    },
    {
      "cell_type": "markdown",
      "source": [
        "TRY \n",
        "Application 1"
      ],
      "metadata": {
        "id": "HdixHWsPowCQ"
      }
    },
    {
      "cell_type": "code",
      "source": [
        "print(10>9)\n",
        "\n",
        "a=60\n",
        "b-13\n",
        "\n",
        "\n",
        "\n",
        "print(a==b)\n",
        "print(a!=a)"
      ],
      "metadata": {
        "colab": {
          "base_uri": "https://localhost:8080/"
        },
        "id": "DSovtsA2ounR",
        "outputId": "840482b9-8399-4f21-fded-40276b0f3e2f"
      },
      "execution_count": null,
      "outputs": [
        {
          "output_type": "stream",
          "name": "stdout",
          "text": [
            "True\n",
            "False\n",
            "False\n"
          ]
        }
      ]
    },
    {
      "cell_type": "markdown",
      "source": [
        "Python Operators"
      ],
      "metadata": {
        "id": "xmhH8x7orf4C"
      }
    },
    {
      "cell_type": "code",
      "source": [
        "print(10+3)\n",
        "print(10-3)\n",
        "print(10*3)\n",
        "print(10/3)\n",
        "print(10%3)\n",
        "\n"
      ],
      "metadata": {
        "colab": {
          "base_uri": "https://localhost:8080/"
        },
        "id": "nbc6r7nJoxdw",
        "outputId": "5e2954d0-bce2-4906-9103-3af668892389"
      },
      "execution_count": null,
      "outputs": [
        {
          "output_type": "stream",
          "name": "stdout",
          "text": [
            "13\n",
            "7\n",
            "30\n",
            "3.3333333333333335\n",
            "1\n"
          ]
        }
      ]
    },
    {
      "cell_type": "markdown",
      "source": [
        "Bitwise Operators"
      ],
      "metadata": {
        "id": "uSkP1gx1sHz9"
      }
    },
    {
      "cell_type": "code",
      "source": [
        "a=60\n",
        "b=13\n",
        "#a = 60, binary 0011 1100\n",
        "#b = 13, binary 0000 1101\n",
        "\n",
        "print(a&b)\n",
        "print(a|b)\n",
        "print(a^b)\n",
        "print(a<<1)\n",
        "print(a<<2)"
      ],
      "metadata": {
        "colab": {
          "base_uri": "https://localhost:8080/"
        },
        "id": "c4GDrLbBsJ69",
        "outputId": "7733f0ed-7ca5-4a57-8793-8983a8f9afbb"
      },
      "execution_count": null,
      "outputs": [
        {
          "output_type": "stream",
          "name": "stdout",
          "text": [
            "12\n",
            "61\n",
            "49\n",
            "120\n",
            "240\n"
          ]
        }
      ]
    },
    {
      "cell_type": "markdown",
      "source": [
        "Application 2\n"
      ],
      "metadata": {
        "id": "xg0u_dAswEII"
      }
    },
    {
      "cell_type": "code",
      "source": [
        "#Assignment Operators\n",
        "x = 2\n",
        "x+=3 # the same as x= x+3 \n",
        "print(x)\n",
        "x-=3 # the same as x= x+3 \n",
        "print(x)\n",
        "x*=3 # the same as x= x+3 \n",
        "print(x)\n",
        "x/=3 # the same as x= x+3 \n",
        "print(x)\n",
        "x%=3 # the same as x= x+3 \n",
        "print(x)\n",
        "\n"
      ],
      "metadata": {
        "colab": {
          "base_uri": "https://localhost:8080/"
        },
        "id": "6Knchag8wGmI",
        "outputId": "70a0f73d-7280-4a2f-823e-efe64be3dc13"
      },
      "execution_count": null,
      "outputs": [
        {
          "output_type": "stream",
          "name": "stdout",
          "text": [
            "5\n",
            "2\n",
            "6\n",
            "2.0\n",
            "2.0\n"
          ]
        }
      ]
    },
    {
      "cell_type": "markdown",
      "source": [
        "Logical Operators"
      ],
      "metadata": {
        "id": "LhlxMh5vyE78"
      }
    },
    {
      "cell_type": "code",
      "source": [
        "k = True\n",
        "l = False\n",
        "print(k and l)\n",
        "print(k or l)\n",
        "print(not(k or l))\n"
      ],
      "metadata": {
        "colab": {
          "base_uri": "https://localhost:8080/"
        },
        "id": "10VAmqEVyGh8",
        "outputId": "c9797d25-bdd9-4df5-9658-2775f5d2d63b"
      },
      "execution_count": null,
      "outputs": [
        {
          "output_type": "stream",
          "name": "stdout",
          "text": [
            "False\n",
            "True\n",
            "False\n"
          ]
        }
      ]
    },
    {
      "cell_type": "markdown",
      "source": [
        "Identity Operators"
      ],
      "metadata": {
        "id": "HVjompwmy3rc"
      }
    },
    {
      "cell_type": "code",
      "source": [
        "k is l \n",
        "l is not l"
      ],
      "metadata": {
        "colab": {
          "base_uri": "https://localhost:8080/"
        },
        "id": "I8BU7Q9sy5_c",
        "outputId": "5ec91829-c83e-4647-d8a3-02679672f03b"
      },
      "execution_count": null,
      "outputs": [
        {
          "output_type": "execute_result",
          "data": {
            "text/plain": [
              "False"
            ]
          },
          "metadata": {},
          "execution_count": 64
        }
      ]
    },
    {
      "cell_type": "markdown",
      "source": [
        "Control Structure\n",
        "\n",
        "\n",
        "if Statement"
      ],
      "metadata": {
        "id": "xSLQ_i8a0DHu"
      }
    },
    {
      "cell_type": "code",
      "source": [
        "v = 1 \n",
        "z = 2\n",
        "if 1<2:\n",
        "  print(\"1 is less than 2\")\n"
      ],
      "metadata": {
        "colab": {
          "base_uri": "https://localhost:8080/"
        },
        "id": "6jym9ixA0Gv-",
        "outputId": "fa659f43-1c22-42ed-9f5f-6489783ffe18"
      },
      "execution_count": null,
      "outputs": [
        {
          "output_type": "stream",
          "name": "stdout",
          "text": [
            "1 is less than 2\n"
          ]
        }
      ]
    },
    {
      "cell_type": "markdown",
      "source": [
        "Elif Statement\n"
      ],
      "metadata": {
        "id": "d3NZloYR0Pur"
      }
    },
    {
      "cell_type": "code",
      "source": [
        "if v<z:\n",
        "  print(\"v is less than z\")\n",
        "elif v>z:\n",
        "  print(\"v is greater than z\")"
      ],
      "metadata": {
        "colab": {
          "base_uri": "https://localhost:8080/"
        },
        "id": "5o4jHDMg0Rds",
        "outputId": "4e681a03-071c-474b-bf06-30a561cddeb3"
      },
      "execution_count": null,
      "outputs": [
        {
          "output_type": "stream",
          "name": "stdout",
          "text": [
            "v is less than z\n"
          ]
        }
      ]
    },
    {
      "cell_type": "markdown",
      "source": [
        "Elif Statement\n"
      ],
      "metadata": {
        "id": "T4RlcTkn2JwE"
      }
    },
    {
      "cell_type": "code",
      "source": [
        "number = int(input()) # to know if the number is positive or negative\n",
        "\n",
        "if number>0:\n",
        " print(\"positive\")\n",
        "elif number<0:\n",
        " print(\"negative\")\n",
        "else:\n",
        " print(\"number is equal to zero\")"
      ],
      "metadata": {
        "colab": {
          "base_uri": "https://localhost:8080/"
        },
        "id": "QmMjIlwE2LCs",
        "outputId": "419b5b6b-2517-457e-c950-74154f3b520f"
      },
      "execution_count": null,
      "outputs": [
        {
          "output_type": "stream",
          "name": "stdout",
          "text": [
            "2\n",
            "positive\n"
          ]
        }
      ]
    },
    {
      "cell_type": "markdown",
      "source": [
        "Application 3 - Develop a Python program that will accept if a person is entitled to vote or not\n"
      ],
      "metadata": {
        "id": "Lk9gVawp28tL"
      }
    },
    {
      "cell_type": "code",
      "source": [
        "age = int(input())\n",
        "\n",
        "if age>=18:\n",
        "  print(\"You are qualified to vote\")\n",
        "else:\n",
        "  print(\"You are not qualified to vote\")"
      ],
      "metadata": {
        "colab": {
          "base_uri": "https://localhost:8080/"
        },
        "id": "5pCgbMLG26v8",
        "outputId": "7b553768-b274-4251-ba71-0b86bd83e423"
      },
      "execution_count": null,
      "outputs": [
        {
          "output_type": "stream",
          "name": "stdout",
          "text": [
            "1\n",
            "You are not qualified to vote\n"
          ]
        }
      ]
    },
    {
      "cell_type": "markdown",
      "source": [
        "Nested if"
      ],
      "metadata": {
        "id": "LaxFAwHs30gG"
      }
    },
    {
      "cell_type": "code",
      "source": [
        "u = int(input())\n",
        "if u>10:\n",
        "  print(\"u is above 10\")\n",
        "if u>20:\n",
        "  print(\"u is above 20\")\n",
        "if u>30:\n",
        "  print(\"u is above 30\")\n",
        "if u>40:\n",
        "  print(\"u is above 40\")\n",
        "if u>50:\n",
        "  print(\"u is above 50\")\n",
        "if u>60:\n",
        "  print(\"u is above 60\")\n",
        "else:\n",
        "  print(\"u is below 60\")\n"
      ],
      "metadata": {
        "colab": {
          "base_uri": "https://localhost:8080/"
        },
        "id": "mApAUKSw33MC",
        "outputId": "b2a18148-4db7-4927-ced2-2c030377d657"
      },
      "execution_count": null,
      "outputs": [
        {
          "output_type": "stream",
          "name": "stdout",
          "text": [
            "69\n",
            "u is above 10\n",
            "u is above 20\n",
            "u is above 30\n",
            "u is above 40\n",
            "u is above 50\n",
            "u is above 60\n"
          ]
        }
      ]
    },
    {
      "cell_type": "markdown",
      "source": [
        "Looping statement\n"
      ],
      "metadata": {
        "id": "We1jF_SG7OWC"
      }
    },
    {
      "cell_type": "code",
      "source": [
        "week = ['Sunday','Monday','Tueday', 'Wednesday','Thursday', 'Friday', 'Saturday']\n",
        "season = [\"rainy\", \"sunny\"]\n",
        "for x in week:\n",
        " for y in season:\n",
        "  print(y,x) "
      ],
      "metadata": {
        "colab": {
          "base_uri": "https://localhost:8080/"
        },
        "id": "Y4-xdOCi4L0-",
        "outputId": "6d2ba9c1-f244-42b6-8622-9cc51784a07a"
      },
      "execution_count": null,
      "outputs": [
        {
          "output_type": "stream",
          "name": "stdout",
          "text": [
            "rainy Sunday\n",
            "sunny Sunday\n",
            "rainy Monday\n",
            "sunny Monday\n",
            "rainy Tueday\n",
            "sunny Tueday\n",
            "rainy Wednesday\n",
            "sunny Wednesday\n",
            "rainy Thursday\n",
            "sunny Thursday\n",
            "rainy Friday\n",
            "sunny Friday\n",
            "rainy Saturday\n",
            "sunny Saturday\n"
          ]
        }
      ]
    },
    {
      "cell_type": "markdown",
      "source": [
        "The break statement"
      ],
      "metadata": {
        "id": "MsozIPlM80mi"
      }
    },
    {
      "cell_type": "code",
      "source": [
        "for x in week:\n",
        "  if x ==\"Thursday\":\n",
        "    break\n",
        "print(x)\n"
      ],
      "metadata": {
        "colab": {
          "base_uri": "https://localhost:8080/"
        },
        "id": "QJa1Xmr983iQ",
        "outputId": "262a8fb9-b336-407c-d59f-63c2a1d432fc"
      },
      "execution_count": null,
      "outputs": [
        {
          "output_type": "stream",
          "name": "stdout",
          "text": [
            "Thursday\n"
          ]
        }
      ]
    },
    {
      "cell_type": "code",
      "source": [
        "for x in week:\n",
        "  if x ==\"Thursday\":\n",
        "    break\n",
        "  print(x)\n"
      ],
      "metadata": {
        "colab": {
          "base_uri": "https://localhost:8080/"
        },
        "id": "ooj_w9TL9Nmb",
        "outputId": "66259433-cc1f-4ad1-90d0-8f44f6077fe2"
      },
      "execution_count": null,
      "outputs": [
        {
          "output_type": "stream",
          "name": "stdout",
          "text": [
            "Sunday\n",
            "Monday\n",
            "Tueday\n",
            "Wednesday\n"
          ]
        }
      ]
    },
    {
      "cell_type": "markdown",
      "source": [
        ""
      ],
      "metadata": {
        "id": "w6mD3ErV_PqQ"
      }
    },
    {
      "cell_type": "code",
      "source": [
        "#TO display Sunday to Thursday\n",
        "\n",
        "for z in week:\n",
        "  if z ==\"Friday\":\n",
        "    break\n",
        "  print(z)\n"
      ],
      "metadata": {
        "colab": {
          "base_uri": "https://localhost:8080/"
        },
        "id": "ZqiBNQb8_Lbz",
        "outputId": "131d9865-760d-4b61-c238-77348b8ed7fa"
      },
      "execution_count": null,
      "outputs": [
        {
          "output_type": "stream",
          "name": "stdout",
          "text": [
            "Sunday\n",
            "Monday\n",
            "Tueday\n",
            "Wednesday\n",
            "Thursday\n"
          ]
        }
      ]
    },
    {
      "cell_type": "markdown",
      "source": [
        ""
      ],
      "metadata": {
        "id": "V5nQMUcFAxak"
      }
    },
    {
      "cell_type": "markdown",
      "source": [
        "While \n"
      ],
      "metadata": {
        "id": "DwTz42UDAism"
      }
    },
    {
      "cell_type": "code",
      "source": [
        "i= 1\n",
        "while i<6:\n",
        "  print(i)\n",
        "  i+=1"
      ],
      "metadata": {
        "colab": {
          "base_uri": "https://localhost:8080/"
        },
        "id": "BAKIj3hHAkGW",
        "outputId": "0c5303fd-fb55-4f09-bd91-97575bafb925"
      },
      "execution_count": null,
      "outputs": [
        {
          "output_type": "stream",
          "name": "stdout",
          "text": [
            "1\n",
            "2\n",
            "3\n",
            "4\n",
            "5\n"
          ]
        }
      ]
    },
    {
      "cell_type": "markdown",
      "source": [
        "Application 4- Create a Python program that display number from 1 - 4 using While loop statement"
      ],
      "metadata": {
        "id": "dkIHbY72Ax5t"
      }
    },
    {
      "cell_type": "code",
      "source": [
        "g= 1\n",
        "\n",
        "while g<=4:\n",
        " print(g)\n",
        " g+=1\n"
      ],
      "metadata": {
        "colab": {
          "base_uri": "https://localhost:8080/"
        },
        "id": "U6e_veaPAo0Q",
        "outputId": "c0c56f8d-acd4-4988-f68a-ef5f146b46b6"
      },
      "execution_count": null,
      "outputs": [
        {
          "output_type": "stream",
          "name": "stdout",
          "text": [
            "1\n",
            "2\n",
            "3\n",
            "4\n"
          ]
        }
      ]
    },
    {
      "cell_type": "markdown",
      "source": [
        "Application 4- Create a Python program that display number 4 using While loop statement and break"
      ],
      "metadata": {
        "id": "p36Elvm3Bd7r"
      }
    },
    {
      "cell_type": "code",
      "source": [
        "g= 1\n",
        "\n",
        "while g<=4:\n",
        " if g==4:\n",
        "   print(g)\n",
        " g+=1\n"
      ],
      "metadata": {
        "colab": {
          "base_uri": "https://localhost:8080/"
        },
        "id": "rlbMl-HsBh-S",
        "outputId": "a3964c0f-4f2b-43f3-8dcb-b87dacffff01"
      },
      "execution_count": null,
      "outputs": [
        {
          "output_type": "stream",
          "name": "stdout",
          "text": [
            "4\n"
          ]
        }
      ]
    }
  ]
}