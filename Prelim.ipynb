{
  "nbformat": 4,
  "nbformat_minor": 0,
  "metadata": {
    "colab": {
      "name": "Prelim.ipynb",
      "provenance": [],
      "authorship_tag": "ABX9TyOiFN7qfg7uvf7L3LVfHLO0",
      "include_colab_link": true
    },
    "kernelspec": {
      "name": "python3",
      "display_name": "Python 3"
    },
    "language_info": {
      "name": "python"
    }
  },
  "cells": [
    {
      "cell_type": "markdown",
      "metadata": {
        "id": "view-in-github",
        "colab_type": "text"
      },
      "source": [
        "<a href=\"https://colab.research.google.com/github/Borvs/OOP-58001/blob/main/Prelim.ipynb\" target=\"_parent\"><img src=\"https://colab.research.google.com/assets/colab-badge.svg\" alt=\"Open In Colab\"/></a>"
      ]
    },
    {
      "cell_type": "markdown",
      "source": [
        "Boribor, Gabriel DC"
      ],
      "metadata": {
        "id": "zIS4o0atJaMc"
      }
    },
    {
      "cell_type": "markdown",
      "source": [
        "Problem 2. (50 points)\n",
        "1) Write a Python to display your full name, student number, age, and course\n",
        "\n",
        "2) Create a class named Student with attributes: Name, Student_No, Age, School, and Course\n",
        "\n",
        "3) Create an object name Myself and assign an instance for each attribute.\n",
        "\n",
        "4) Create a method Self () using an instantiation of a class.\n",
        "\n",
        "5) Insert your GitHub link \"Prelim Exam\" from your repository named \"OOP 58001\" "
      ],
      "metadata": {
        "id": "BVT3V9xdI4yF"
      }
    },
    {
      "cell_type": "code",
      "source": [
        "class Student():\n",
        "  def __init__(self, Name, StudentNum, Age, School, Course):\n",
        "    self.Name = Name\n",
        "    self.StudentNum = StudentNum\n",
        "    self.Age = Age\n",
        "    self.School = School\n",
        "    self.Course = Course\n",
        "\n",
        "  def Student(self):\n",
        "    return self.Name + self.StudentNum + self.Age + self.School + self.Course\n",
        "\n",
        "  def StudentInformation(self):\n",
        "    print(self.Student())\n",
        "\n",
        "Myself = Student(\"Boribor, Gabriel DC \", \"202111889 \", \"19 \", \"Adamson University \", \"BS Computer Engineering\")\n",
        "Myself.StudentInformation()\n"
      ],
      "metadata": {
        "colab": {
          "base_uri": "https://localhost:8080/"
        },
        "id": "QRgkrhUeJMmA",
        "outputId": "85626a86-68c6-4d8f-d061-539c751e55ca"
      },
      "execution_count": 17,
      "outputs": [
        {
          "output_type": "stream",
          "name": "stdout",
          "text": [
            "Boribor, Gabriel DC 202111889 19 Adamson University BS Computer Engineering\n"
          ]
        }
      ]
    },
    {
      "cell_type": "code",
      "source": [
        ""
      ],
      "metadata": {
        "id": "GdVnvw4AJc7j"
      },
      "execution_count": null,
      "outputs": []
    }
  ]
}